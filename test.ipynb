{
 "cells": [
  {
   "cell_type": "code",
   "execution_count": 1,
   "metadata": {},
   "outputs": [],
   "source": [
    "import requests"
   ]
  },
  {
   "cell_type": "code",
   "execution_count": 2,
   "metadata": {},
   "outputs": [],
   "source": [
    "url = \"http://localhost:3000/api/personajes\""
   ]
  },
  {
   "cell_type": "code",
   "execution_count": 6,
   "metadata": {},
   "outputs": [
    {
     "name": "stdout",
     "output_type": "stream",
     "text": [
      "200\n"
     ]
    }
   ],
   "source": [
    "response = requests.post(url, json = {\n",
    "    \"nombre\": \"Goku\",\n",
    "    \"fuerza\" : 1000,\n",
    "    \"fecha_nacimiento\" : \"1990-01-01\",\n",
    "    \"objeto\" : \"Esta es una prueba\"})\n",
    "\n",
    "print(response.status_code)"
   ]
  },
  {
   "cell_type": "code",
   "execution_count": 27,
   "metadata": {},
   "outputs": [
    {
     "data": {
      "text/plain": [
       "[{'id': 1,\n",
       "  'nombre': 'Goku',\n",
       "  'fuerza': 1000,\n",
       "  'fecha_nacimiento': '1990-01-01T00:00:00.000Z',\n",
       "  'objeto': 'Esta es una prueba'},\n",
       " {'id': 2,\n",
       "  'nombre': 'Goku',\n",
       "  'fuerza': 1000,\n",
       "  'fecha_nacimiento': '1990-01-01T00:00:00.000Z',\n",
       "  'objeto': 'Esta es una prueba'},\n",
       " {'id': 3,\n",
       "  'nombre': 'Goku',\n",
       "  'fuerza': 1000,\n",
       "  'fecha_nacimiento': '1990-01-01T00:00:00.000Z',\n",
       "  'objeto': 'Esta es una prueba'}]"
      ]
     },
     "execution_count": 27,
     "metadata": {},
     "output_type": "execute_result"
    }
   ],
   "source": [
    "response = requests.get(url, params = {\"nombre\" : \"Goku\"})\n",
    "response.json()"
   ]
  },
  {
   "cell_type": "code",
   "execution_count": 45,
   "metadata": {},
   "outputs": [
    {
     "data": {
      "text/plain": [
       "{'id': 1,\n",
       " 'nombre': 'Gohan',\n",
       " 'fuerza': 1000,\n",
       " 'fecha_nacimiento': '1990-01-01T00:00:00.000Z',\n",
       " 'objeto': 'Esta es una prueba'}"
      ]
     },
     "execution_count": 45,
     "metadata": {},
     "output_type": "execute_result"
    }
   ],
   "source": [
    "response = requests.put(url, json = {\n",
    "    \"id\" : 1,\n",
    "    \"nombre\": \"Gohan\",\n",
    "    \"fuerza\" : 1000,\n",
    "    \"fecha_nacimiento\" : \"1990-01-01\",\n",
    "    \"objeto\" : \"Esta es una prueba\"\n",
    "})\n",
    "\n",
    "response.json()"
   ]
  },
  {
   "cell_type": "code",
   "execution_count": 5,
   "metadata": {},
   "outputs": [
    {
     "data": {
      "text/plain": [
       "{'id': 3,\n",
       " 'nombre': 'Goku',\n",
       " 'fuerza': 1000,\n",
       " 'fecha_nacimiento': '1990-01-01T00:00:00.000Z',\n",
       " 'objeto': 'Esta es una prueba'}"
      ]
     },
     "execution_count": 5,
     "metadata": {},
     "output_type": "execute_result"
    }
   ],
   "source": [
    "response = requests.delete(url, json = {\"id\" : 3})\n",
    "response.json()"
   ]
  }
 ],
 "metadata": {
  "kernelspec": {
   "display_name": "redes",
   "language": "python",
   "name": "python3"
  },
  "language_info": {
   "codemirror_mode": {
    "name": "ipython",
    "version": 3
   },
   "file_extension": ".py",
   "mimetype": "text/x-python",
   "name": "python",
   "nbconvert_exporter": "python",
   "pygments_lexer": "ipython3",
   "version": "3.11.3"
  },
  "orig_nbformat": 4
 },
 "nbformat": 4,
 "nbformat_minor": 2
}
